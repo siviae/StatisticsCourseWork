{
 "cells": [
  {
   "cell_type": "markdown",
   "metadata": {},
   "source": [
    "# Identifying Duplicate Questions\n",
    "\n",
    "Welcome to the Quora Question Pairs competition! Here, our goal is to identify which questions asked on [Quora](https://www.quora.com/), a quasi-forum website with over 100 million visitors a month, are duplicates of questions that have already been asked. This could be useful, for example, to instantly provide answers to questions that have already been answered. We are tasked with predicting whether a pair of questions are duplicates or not, and submitting a binary prediction against the logloss metric.\n",
    "\n",
    "If you have any questions or want to discuss competitions/hardware/games/anything with other Kagglers, then join the KaggleNoobs Slack channel [here](https://goo.gl/gGWFXe). We also have regular AMAs with top Kagglers there.\n",
    "\n",
    "**And as always, if this helped you, some upvotes would be very much appreciated - that's where I get my motivation! :D**\n",
    "\n",
    "Let's dive right into the data!"
   ]
  },
  {
   "cell_type": "code",
   "execution_count": 5,
   "metadata": {
    "collapsed": false
   },
   "outputs": [
    {
     "name": "stdout",
     "output_type": "stream",
     "text": [
      "# File sizes\n",
      ".DS_Store                     0.01MB\n",
      "test.csv                      314.02MB\n",
      "train.csv                     63.4MB\n"
     ]
    }
   ],
   "source": [
    "import numpy as np # linear algebra\n",
    "import pandas as pd # data processing, CSV file I/O (e.g. pd.read_csv)\n",
    "import os\n",
    "import gc\n",
    "import matplotlib.pyplot as plt\n",
    "import seaborn as sns\n",
    "%matplotlib inline\n",
    "\n",
    "pal = sns.color_palette()\n",
    "\n",
    "print('# File sizes')\n",
    "for f in os.listdir('../input'):\n",
    "    if 'zip' not in f:\n",
    "        print(f.ljust(30) + str(round(os.path.getsize('../input/' + f) / 1000000, 2)) + 'MB')"
   ]
  },
  {
   "cell_type": "markdown",
   "metadata": {},
   "source": [
    "Looks like we are simply given two files this time round, one for the training set and one for the test set. They are relatively small compared to other recent competitions, weighing in at less than 400MB total.\n",
    "\n",
    "It's worth noting that there is a lot more testing data than training data. This could be a sign that some of the test data is dummy data designed to deter hand-labelling, and not included in the calculations, like we recently saw in the [DSTL competition](https://www.kaggle.com/c/dstl-satellite-imagery-feature-detection/leaderboard).\n",
    "\n",
    "Let's open up one of the datasets.\n",
    "\n",
    "## Training set"
   ]
  },
  {
   "cell_type": "code",
   "execution_count": 7,
   "metadata": {
    "collapsed": false
   },
   "outputs": [
    {
     "data": {
      "text/html": [
       "<div>\n",
       "<table border=\"1\" class=\"dataframe\">\n",
       "  <thead>\n",
       "    <tr style=\"text-align: right;\">\n",
       "      <th></th>\n",
       "      <th>id</th>\n",
       "      <th>qid1</th>\n",
       "      <th>qid2</th>\n",
       "      <th>question1</th>\n",
       "      <th>question2</th>\n",
       "      <th>is_duplicate</th>\n",
       "    </tr>\n",
       "  </thead>\n",
       "  <tbody>\n",
       "    <tr>\n",
       "      <th>0</th>\n",
       "      <td>0</td>\n",
       "      <td>1</td>\n",
       "      <td>2</td>\n",
       "      <td>What is the step by step guide to invest in share market in india?</td>\n",
       "      <td>What is the step by step guide to invest in share market?</td>\n",
       "      <td>0</td>\n",
       "    </tr>\n",
       "    <tr>\n",
       "      <th>1</th>\n",
       "      <td>1</td>\n",
       "      <td>3</td>\n",
       "      <td>4</td>\n",
       "      <td>What is the story of Kohinoor (Koh-i-Noor) Diamond?</td>\n",
       "      <td>What would happen if the Indian government stole the Kohinoor (Koh-i-Noor) diamond back?</td>\n",
       "      <td>0</td>\n",
       "    </tr>\n",
       "    <tr>\n",
       "      <th>2</th>\n",
       "      <td>2</td>\n",
       "      <td>5</td>\n",
       "      <td>6</td>\n",
       "      <td>How can I increase the speed of my internet connection while using a VPN?</td>\n",
       "      <td>How can Internet speed be increased by hacking through DNS?</td>\n",
       "      <td>0</td>\n",
       "    </tr>\n",
       "    <tr>\n",
       "      <th>3</th>\n",
       "      <td>3</td>\n",
       "      <td>7</td>\n",
       "      <td>8</td>\n",
       "      <td>Why am I mentally very lonely? How can I solve it?</td>\n",
       "      <td>Find the remainder when [math]23^{24}[/math] is divided by 24,23?</td>\n",
       "      <td>0</td>\n",
       "    </tr>\n",
       "    <tr>\n",
       "      <th>4</th>\n",
       "      <td>4</td>\n",
       "      <td>9</td>\n",
       "      <td>10</td>\n",
       "      <td>Which one dissolve in water quikly sugar, salt, methane and carbon di oxide?</td>\n",
       "      <td>Which fish would survive in salt water?</td>\n",
       "      <td>0</td>\n",
       "    </tr>\n",
       "  </tbody>\n",
       "</table>\n",
       "</div>"
      ],
      "text/plain": [
       "   id  qid1  qid2  \\\n",
       "0   0     1     2   \n",
       "1   1     3     4   \n",
       "2   2     5     6   \n",
       "3   3     7     8   \n",
       "4   4     9    10   \n",
       "\n",
       "                                                                      question1  \\\n",
       "0            What is the step by step guide to invest in share market in india?   \n",
       "1                           What is the story of Kohinoor (Koh-i-Noor) Diamond?   \n",
       "2     How can I increase the speed of my internet connection while using a VPN?   \n",
       "3                            Why am I mentally very lonely? How can I solve it?   \n",
       "4  Which one dissolve in water quikly sugar, salt, methane and carbon di oxide?   \n",
       "\n",
       "                                                                                  question2  \\\n",
       "0                                 What is the step by step guide to invest in share market?   \n",
       "1  What would happen if the Indian government stole the Kohinoor (Koh-i-Noor) diamond back?   \n",
       "2                               How can Internet speed be increased by hacking through DNS?   \n",
       "3                         Find the remainder when [math]23^{24}[/math] is divided by 24,23?   \n",
       "4                                                   Which fish would survive in salt water?   \n",
       "\n",
       "   is_duplicate  \n",
       "0             0  \n",
       "1             0  \n",
       "2             0  \n",
       "3             0  \n",
       "4             0  "
      ]
     },
     "execution_count": 7,
     "metadata": {},
     "output_type": "execute_result"
    }
   ],
   "source": [
    "df_train = pd.read_csv('../input/train.csv')\n",
    "pd.options.display.max_colwidth = 100\n",
    "df_train.head()"
   ]
  },
  {
   "cell_type": "code",
   "execution_count": 3,
   "metadata": {
    "collapsed": false
   },
   "outputs": [
    {
     "data": {
      "text/html": [
       "<div>\n",
       "<table border=\"1\" class=\"dataframe\">\n",
       "  <thead>\n",
       "    <tr style=\"text-align: right;\">\n",
       "      <th></th>\n",
       "      <th>id</th>\n",
       "      <th>qid1</th>\n",
       "      <th>qid2</th>\n",
       "      <th>question1</th>\n",
       "      <th>question2</th>\n",
       "      <th>is_duplicate</th>\n",
       "    </tr>\n",
       "  </thead>\n",
       "  <tbody>\n",
       "    <tr>\n",
       "      <th>5</th>\n",
       "      <td>5</td>\n",
       "      <td>11</td>\n",
       "      <td>12</td>\n",
       "      <td>Astrology: I am a Capricorn Sun Cap moon and cap rising...what does that say about me?</td>\n",
       "      <td>I'm a triple Capricorn (Sun, Moon and ascendant in Capricorn) What does this say about me?</td>\n",
       "      <td>1</td>\n",
       "    </tr>\n",
       "    <tr>\n",
       "      <th>7</th>\n",
       "      <td>7</td>\n",
       "      <td>15</td>\n",
       "      <td>16</td>\n",
       "      <td>How can I be a good geologist?</td>\n",
       "      <td>What should I do to be a great geologist?</td>\n",
       "      <td>1</td>\n",
       "    </tr>\n",
       "    <tr>\n",
       "      <th>11</th>\n",
       "      <td>11</td>\n",
       "      <td>23</td>\n",
       "      <td>24</td>\n",
       "      <td>How do I read and find my YouTube comments?</td>\n",
       "      <td>How can I see all my Youtube comments?</td>\n",
       "      <td>1</td>\n",
       "    </tr>\n",
       "    <tr>\n",
       "      <th>12</th>\n",
       "      <td>12</td>\n",
       "      <td>25</td>\n",
       "      <td>26</td>\n",
       "      <td>What can make Physics easy to learn?</td>\n",
       "      <td>How can you make physics easy to learn?</td>\n",
       "      <td>1</td>\n",
       "    </tr>\n",
       "    <tr>\n",
       "      <th>13</th>\n",
       "      <td>13</td>\n",
       "      <td>27</td>\n",
       "      <td>28</td>\n",
       "      <td>What was your first sexual experience like?</td>\n",
       "      <td>What was your first sexual experience?</td>\n",
       "      <td>1</td>\n",
       "    </tr>\n",
       "    <tr>\n",
       "      <th>15</th>\n",
       "      <td>15</td>\n",
       "      <td>31</td>\n",
       "      <td>32</td>\n",
       "      <td>What would a Trump presidency mean for current international master’s students on an F1 visa?</td>\n",
       "      <td>How will a Trump presidency affect the students presently in US or planning to study in US?</td>\n",
       "      <td>1</td>\n",
       "    </tr>\n",
       "    <tr>\n",
       "      <th>16</th>\n",
       "      <td>16</td>\n",
       "      <td>33</td>\n",
       "      <td>34</td>\n",
       "      <td>What does manipulation mean?</td>\n",
       "      <td>What does manipulation means?</td>\n",
       "      <td>1</td>\n",
       "    </tr>\n",
       "    <tr>\n",
       "      <th>18</th>\n",
       "      <td>18</td>\n",
       "      <td>37</td>\n",
       "      <td>38</td>\n",
       "      <td>Why are so many Quora users posting questions that are readily answered on Google?</td>\n",
       "      <td>Why do people ask Quora questions which can be answered easily by Google?</td>\n",
       "      <td>1</td>\n",
       "    </tr>\n",
       "    <tr>\n",
       "      <th>20</th>\n",
       "      <td>20</td>\n",
       "      <td>41</td>\n",
       "      <td>42</td>\n",
       "      <td>Why do rockets look white?</td>\n",
       "      <td>Why are rockets and boosters painted white?</td>\n",
       "      <td>1</td>\n",
       "    </tr>\n",
       "    <tr>\n",
       "      <th>29</th>\n",
       "      <td>29</td>\n",
       "      <td>59</td>\n",
       "      <td>60</td>\n",
       "      <td>How should I prepare for CA final law?</td>\n",
       "      <td>How one should know that he/she completely prepare for CA final exam?</td>\n",
       "      <td>1</td>\n",
       "    </tr>\n",
       "    <tr>\n",
       "      <th>31</th>\n",
       "      <td>31</td>\n",
       "      <td>63</td>\n",
       "      <td>64</td>\n",
       "      <td>What are some special cares for someone with a nose that gets stuffy during the night?</td>\n",
       "      <td>How can I keep my nose from getting stuffy at night?</td>\n",
       "      <td>1</td>\n",
       "    </tr>\n",
       "    <tr>\n",
       "      <th>32</th>\n",
       "      <td>32</td>\n",
       "      <td>65</td>\n",
       "      <td>66</td>\n",
       "      <td>What Game of Thrones villain would be the most likely to give you mercy?</td>\n",
       "      <td>What Game of Thrones villain would you most like to be at the mercy of?</td>\n",
       "      <td>1</td>\n",
       "    </tr>\n",
       "    <tr>\n",
       "      <th>38</th>\n",
       "      <td>38</td>\n",
       "      <td>77</td>\n",
       "      <td>78</td>\n",
       "      <td>How do we prepare for UPSC?</td>\n",
       "      <td>How do I prepare for civil service?</td>\n",
       "      <td>1</td>\n",
       "    </tr>\n",
       "    <tr>\n",
       "      <th>48</th>\n",
       "      <td>48</td>\n",
       "      <td>97</td>\n",
       "      <td>98</td>\n",
       "      <td>What are some examples of products that can be make from crude oil?</td>\n",
       "      <td>What are some of the products made from crude oil?</td>\n",
       "      <td>1</td>\n",
       "    </tr>\n",
       "    <tr>\n",
       "      <th>49</th>\n",
       "      <td>49</td>\n",
       "      <td>99</td>\n",
       "      <td>100</td>\n",
       "      <td>How do I make friends.</td>\n",
       "      <td>How to make friends ?</td>\n",
       "      <td>1</td>\n",
       "    </tr>\n",
       "    <tr>\n",
       "      <th>50</th>\n",
       "      <td>50</td>\n",
       "      <td>101</td>\n",
       "      <td>102</td>\n",
       "      <td>Is Career Launcher good for RBI Grade B preparation?</td>\n",
       "      <td>How is career launcher online program for RBI Grade B?</td>\n",
       "      <td>1</td>\n",
       "    </tr>\n",
       "    <tr>\n",
       "      <th>51</th>\n",
       "      <td>51</td>\n",
       "      <td>103</td>\n",
       "      <td>104</td>\n",
       "      <td>Will a Blu Ray play on a regular DVD player? If so, how?</td>\n",
       "      <td>How can you play a Blu Ray DVD on a regular DVD player?</td>\n",
       "      <td>1</td>\n",
       "    </tr>\n",
       "    <tr>\n",
       "      <th>53</th>\n",
       "      <td>53</td>\n",
       "      <td>107</td>\n",
       "      <td>108</td>\n",
       "      <td>What is the best/most memorable thing you've ever eaten and why?</td>\n",
       "      <td>What is the most delicious dish you've ever eaten and why?</td>\n",
       "      <td>1</td>\n",
       "    </tr>\n",
       "    <tr>\n",
       "      <th>58</th>\n",
       "      <td>58</td>\n",
       "      <td>117</td>\n",
       "      <td>118</td>\n",
       "      <td>I was suddenly logged off Gmail. I can't remember my Gmail password and just realized the recove...</td>\n",
       "      <td>I can't remember my Gmail password or my recovery email. How can I recover my e-mail?</td>\n",
       "      <td>1</td>\n",
       "    </tr>\n",
       "    <tr>\n",
       "      <th>62</th>\n",
       "      <td>62</td>\n",
       "      <td>125</td>\n",
       "      <td>126</td>\n",
       "      <td>How is the new Harry Potter book 'Harry Potter and the Cursed Child'?</td>\n",
       "      <td>How bad is the new book by J.K Rowling?</td>\n",
       "      <td>1</td>\n",
       "    </tr>\n",
       "    <tr>\n",
       "      <th>65</th>\n",
       "      <td>65</td>\n",
       "      <td>131</td>\n",
       "      <td>132</td>\n",
       "      <td>What is Java programming? How To Learn Java Programming Language ?</td>\n",
       "      <td>How do I learn a computer language like java?</td>\n",
       "      <td>1</td>\n",
       "    </tr>\n",
       "    <tr>\n",
       "      <th>66</th>\n",
       "      <td>66</td>\n",
       "      <td>133</td>\n",
       "      <td>134</td>\n",
       "      <td>What is the best book ever made?</td>\n",
       "      <td>What is the most important book you have ever read?</td>\n",
       "      <td>1</td>\n",
       "    </tr>\n",
       "    <tr>\n",
       "      <th>67</th>\n",
       "      <td>67</td>\n",
       "      <td>135</td>\n",
       "      <td>136</td>\n",
       "      <td>Can we ever store energy produced in lightning?</td>\n",
       "      <td>Is it possible to store the energy of lightning?</td>\n",
       "      <td>1</td>\n",
       "    </tr>\n",
       "    <tr>\n",
       "      <th>71</th>\n",
       "      <td>71</td>\n",
       "      <td>143</td>\n",
       "      <td>144</td>\n",
       "      <td>What is a narcissistic personality disorder?</td>\n",
       "      <td>What is narcissistic personality disorder?</td>\n",
       "      <td>1</td>\n",
       "    </tr>\n",
       "    <tr>\n",
       "      <th>72</th>\n",
       "      <td>72</td>\n",
       "      <td>145</td>\n",
       "      <td>146</td>\n",
       "      <td>How I can speak English fluently?</td>\n",
       "      <td>How can I learn to speak English fluently?</td>\n",
       "      <td>1</td>\n",
       "    </tr>\n",
       "    <tr>\n",
       "      <th>73</th>\n",
       "      <td>73</td>\n",
       "      <td>147</td>\n",
       "      <td>148</td>\n",
       "      <td>How helpful is QuickBooks' auto data recovery support phone number to recover your corrupted dat...</td>\n",
       "      <td>What is the quickbooks customer support phone number USA?</td>\n",
       "      <td>1</td>\n",
       "    </tr>\n",
       "    <tr>\n",
       "      <th>74</th>\n",
       "      <td>74</td>\n",
       "      <td>149</td>\n",
       "      <td>150</td>\n",
       "      <td>Who is the richest gambler of all time and how can I reach his level?</td>\n",
       "      <td>Who is the richest gambler of all time and how can I reach his level as a gambler?</td>\n",
       "      <td>1</td>\n",
       "    </tr>\n",
       "    <tr>\n",
       "      <th>79</th>\n",
       "      <td>79</td>\n",
       "      <td>159</td>\n",
       "      <td>160</td>\n",
       "      <td>What is purpose of life?</td>\n",
       "      <td>What's the purpose of life? What is life actually about?</td>\n",
       "      <td>1</td>\n",
       "    </tr>\n",
       "    <tr>\n",
       "      <th>84</th>\n",
       "      <td>84</td>\n",
       "      <td>169</td>\n",
       "      <td>170</td>\n",
       "      <td>What are some of the high salary income jobs in the field of biotechnology?</td>\n",
       "      <td>What are some high paying jobs for a fresher with an M.Tech in biotechnology?</td>\n",
       "      <td>1</td>\n",
       "    </tr>\n",
       "    <tr>\n",
       "      <th>85</th>\n",
       "      <td>85</td>\n",
       "      <td>171</td>\n",
       "      <td>172</td>\n",
       "      <td>How can I increase my height after 21 also?</td>\n",
       "      <td>Can height increase after 25?</td>\n",
       "      <td>1</td>\n",
       "    </tr>\n",
       "    <tr>\n",
       "      <th>86</th>\n",
       "      <td>86</td>\n",
       "      <td>173</td>\n",
       "      <td>174</td>\n",
       "      <td>What were the major effects of the cambodia earthquake, and how do these effects compare to the ...</td>\n",
       "      <td>What were the major effects of the cambodia earthquake, and how do these effects compare to the ...</td>\n",
       "      <td>1</td>\n",
       "    </tr>\n",
       "    <tr>\n",
       "      <th>88</th>\n",
       "      <td>88</td>\n",
       "      <td>177</td>\n",
       "      <td>178</td>\n",
       "      <td>Which is the best gaming laptop under 60k INR?</td>\n",
       "      <td>Which is the best gaming laptop under Rs 60000?</td>\n",
       "      <td>1</td>\n",
       "    </tr>\n",
       "    <tr>\n",
       "      <th>92</th>\n",
       "      <td>92</td>\n",
       "      <td>185</td>\n",
       "      <td>186</td>\n",
       "      <td>What are some of the best romantic movies in English?</td>\n",
       "      <td>What is the best romantic movie you have ever seen?</td>\n",
       "      <td>1</td>\n",
       "    </tr>\n",
       "    <tr>\n",
       "      <th>93</th>\n",
       "      <td>93</td>\n",
       "      <td>187</td>\n",
       "      <td>188</td>\n",
       "      <td>What causes a nightmare?</td>\n",
       "      <td>What causes nightmares that seem real?</td>\n",
       "      <td>1</td>\n",
       "    </tr>\n",
       "    <tr>\n",
       "      <th>95</th>\n",
       "      <td>95</td>\n",
       "      <td>191</td>\n",
       "      <td>192</td>\n",
       "      <td>How does 3D printing work?</td>\n",
       "      <td>How do 3D printing work?</td>\n",
       "      <td>1</td>\n",
       "    </tr>\n",
       "    <tr>\n",
       "      <th>100</th>\n",
       "      <td>100</td>\n",
       "      <td>201</td>\n",
       "      <td>202</td>\n",
       "      <td>Will there really be any war between India and Pakistan over the Uri attack? What will be its ef...</td>\n",
       "      <td>Will there be a nuclear war between India and Pakistan?</td>\n",
       "      <td>1</td>\n",
       "    </tr>\n",
       "    <tr>\n",
       "      <th>104</th>\n",
       "      <td>104</td>\n",
       "      <td>209</td>\n",
       "      <td>210</td>\n",
       "      <td>Can I recover my email if I forgot the password?</td>\n",
       "      <td>What should I do if I forgot my email password?</td>\n",
       "      <td>1</td>\n",
       "    </tr>\n",
       "    <tr>\n",
       "      <th>107</th>\n",
       "      <td>107</td>\n",
       "      <td>215</td>\n",
       "      <td>216</td>\n",
       "      <td>What's the difference between love and pity?</td>\n",
       "      <td>What is the difference between love and pity?</td>\n",
       "      <td>1</td>\n",
       "    </tr>\n",
       "    <tr>\n",
       "      <th>113</th>\n",
       "      <td>113</td>\n",
       "      <td>227</td>\n",
       "      <td>228</td>\n",
       "      <td>What do you think China food?</td>\n",
       "      <td>How do you think of Chinese food?</td>\n",
       "      <td>1</td>\n",
       "    </tr>\n",
       "    <tr>\n",
       "      <th>120</th>\n",
       "      <td>120</td>\n",
       "      <td>241</td>\n",
       "      <td>242</td>\n",
       "      <td>Why my question was marked as needing imrovement?</td>\n",
       "      <td>How can I ask a question without getting marked as ‘need to improve’?</td>\n",
       "      <td>1</td>\n",
       "    </tr>\n",
       "  </tbody>\n",
       "</table>\n",
       "</div>"
      ],
      "text/plain": [
       "      id  qid1  qid2  \\\n",
       "5      5    11    12   \n",
       "7      7    15    16   \n",
       "11    11    23    24   \n",
       "12    12    25    26   \n",
       "13    13    27    28   \n",
       "15    15    31    32   \n",
       "16    16    33    34   \n",
       "18    18    37    38   \n",
       "20    20    41    42   \n",
       "29    29    59    60   \n",
       "31    31    63    64   \n",
       "32    32    65    66   \n",
       "38    38    77    78   \n",
       "48    48    97    98   \n",
       "49    49    99   100   \n",
       "50    50   101   102   \n",
       "51    51   103   104   \n",
       "53    53   107   108   \n",
       "58    58   117   118   \n",
       "62    62   125   126   \n",
       "65    65   131   132   \n",
       "66    66   133   134   \n",
       "67    67   135   136   \n",
       "71    71   143   144   \n",
       "72    72   145   146   \n",
       "73    73   147   148   \n",
       "74    74   149   150   \n",
       "79    79   159   160   \n",
       "84    84   169   170   \n",
       "85    85   171   172   \n",
       "86    86   173   174   \n",
       "88    88   177   178   \n",
       "92    92   185   186   \n",
       "93    93   187   188   \n",
       "95    95   191   192   \n",
       "100  100   201   202   \n",
       "104  104   209   210   \n",
       "107  107   215   216   \n",
       "113  113   227   228   \n",
       "120  120   241   242   \n",
       "\n",
       "                                                                                               question1  \\\n",
       "5                 Astrology: I am a Capricorn Sun Cap moon and cap rising...what does that say about me?   \n",
       "7                                                                         How can I be a good geologist?   \n",
       "11                                                           How do I read and find my YouTube comments?   \n",
       "12                                                                  What can make Physics easy to learn?   \n",
       "13                                                           What was your first sexual experience like?   \n",
       "15         What would a Trump presidency mean for current international master’s students on an F1 visa?   \n",
       "16                                                                          What does manipulation mean?   \n",
       "18                    Why are so many Quora users posting questions that are readily answered on Google?   \n",
       "20                                                                            Why do rockets look white?   \n",
       "29                                                                How should I prepare for CA final law?   \n",
       "31                What are some special cares for someone with a nose that gets stuffy during the night?   \n",
       "32                              What Game of Thrones villain would be the most likely to give you mercy?   \n",
       "38                                                                           How do we prepare for UPSC?   \n",
       "48                                   What are some examples of products that can be make from crude oil?   \n",
       "49                                                                                How do I make friends.   \n",
       "50                                                  Is Career Launcher good for RBI Grade B preparation?   \n",
       "51                                              Will a Blu Ray play on a regular DVD player? If so, how?   \n",
       "53                                      What is the best/most memorable thing you've ever eaten and why?   \n",
       "58   I was suddenly logged off Gmail. I can't remember my Gmail password and just realized the recove...   \n",
       "62                                 How is the new Harry Potter book 'Harry Potter and the Cursed Child'?   \n",
       "65                                    What is Java programming? How To Learn Java Programming Language ?   \n",
       "66                                                                      What is the best book ever made?   \n",
       "67                                                       Can we ever store energy produced in lightning?   \n",
       "71                                                          What is a narcissistic personality disorder?   \n",
       "72                                                                     How I can speak English fluently?   \n",
       "73   How helpful is QuickBooks' auto data recovery support phone number to recover your corrupted dat...   \n",
       "74                                 Who is the richest gambler of all time and how can I reach his level?   \n",
       "79                                                                              What is purpose of life?   \n",
       "84                           What are some of the high salary income jobs in the field of biotechnology?   \n",
       "85                                                           How can I increase my height after 21 also?   \n",
       "86   What were the major effects of the cambodia earthquake, and how do these effects compare to the ...   \n",
       "88                                                        Which is the best gaming laptop under 60k INR?   \n",
       "92                                                 What are some of the best romantic movies in English?   \n",
       "93                                                                              What causes a nightmare?   \n",
       "95                                                                            How does 3D printing work?   \n",
       "100  Will there really be any war between India and Pakistan over the Uri attack? What will be its ef...   \n",
       "104                                                     Can I recover my email if I forgot the password?   \n",
       "107                                                         What's the difference between love and pity?   \n",
       "113                                                                        What do you think China food?   \n",
       "120                                                    Why my question was marked as needing imrovement?   \n",
       "\n",
       "                                                                                               question2  \\\n",
       "5             I'm a triple Capricorn (Sun, Moon and ascendant in Capricorn) What does this say about me?   \n",
       "7                                                              What should I do to be a great geologist?   \n",
       "11                                                                How can I see all my Youtube comments?   \n",
       "12                                                               How can you make physics easy to learn?   \n",
       "13                                                                What was your first sexual experience?   \n",
       "15           How will a Trump presidency affect the students presently in US or planning to study in US?   \n",
       "16                                                                         What does manipulation means?   \n",
       "18                             Why do people ask Quora questions which can be answered easily by Google?   \n",
       "20                                                           Why are rockets and boosters painted white?   \n",
       "29                                 How one should know that he/she completely prepare for CA final exam?   \n",
       "31                                                  How can I keep my nose from getting stuffy at night?   \n",
       "32                               What Game of Thrones villain would you most like to be at the mercy of?   \n",
       "38                                                                   How do I prepare for civil service?   \n",
       "48                                                    What are some of the products made from crude oil?   \n",
       "49                                                                                 How to make friends ?   \n",
       "50                                                How is career launcher online program for RBI Grade B?   \n",
       "51                                               How can you play a Blu Ray DVD on a regular DVD player?   \n",
       "53                                            What is the most delicious dish you've ever eaten and why?   \n",
       "58                 I can't remember my Gmail password or my recovery email. How can I recover my e-mail?   \n",
       "62                                                               How bad is the new book by J.K Rowling?   \n",
       "65                                                         How do I learn a computer language like java?   \n",
       "66                                                   What is the most important book you have ever read?   \n",
       "67                                                      Is it possible to store the energy of lightning?   \n",
       "71                                                            What is narcissistic personality disorder?   \n",
       "72                                                            How can I learn to speak English fluently?   \n",
       "73                                             What is the quickbooks customer support phone number USA?   \n",
       "74                    Who is the richest gambler of all time and how can I reach his level as a gambler?   \n",
       "79                                              What's the purpose of life? What is life actually about?   \n",
       "84                         What are some high paying jobs for a fresher with an M.Tech in biotechnology?   \n",
       "85                                                                         Can height increase after 25?   \n",
       "86   What were the major effects of the cambodia earthquake, and how do these effects compare to the ...   \n",
       "88                                                       Which is the best gaming laptop under Rs 60000?   \n",
       "92                                                   What is the best romantic movie you have ever seen?   \n",
       "93                                                                What causes nightmares that seem real?   \n",
       "95                                                                              How do 3D printing work?   \n",
       "100                                              Will there be a nuclear war between India and Pakistan?   \n",
       "104                                                      What should I do if I forgot my email password?   \n",
       "107                                                        What is the difference between love and pity?   \n",
       "113                                                                    How do you think of Chinese food?   \n",
       "120                                How can I ask a question without getting marked as ‘need to improve’?   \n",
       "\n",
       "     is_duplicate  \n",
       "5               1  \n",
       "7               1  \n",
       "11              1  \n",
       "12              1  \n",
       "13              1  \n",
       "15              1  \n",
       "16              1  \n",
       "18              1  \n",
       "20              1  \n",
       "29              1  \n",
       "31              1  \n",
       "32              1  \n",
       "38              1  \n",
       "48              1  \n",
       "49              1  \n",
       "50              1  \n",
       "51              1  \n",
       "53              1  \n",
       "58              1  \n",
       "62              1  \n",
       "65              1  \n",
       "66              1  \n",
       "67              1  \n",
       "71              1  \n",
       "72              1  \n",
       "73              1  \n",
       "74              1  \n",
       "79              1  \n",
       "84              1  \n",
       "85              1  \n",
       "86              1  \n",
       "88              1  \n",
       "92              1  \n",
       "93              1  \n",
       "95              1  \n",
       "100             1  \n",
       "104             1  \n",
       "107             1  \n",
       "113             1  \n",
       "120             1  "
      ]
     },
     "execution_count": 3,
     "metadata": {},
     "output_type": "execute_result"
    }
   ],
   "source": [
    "df_train.loc[df_train['is_duplicate']==1].head(40)"
   ]
  },
  {
   "cell_type": "markdown",
   "metadata": {},
   "source": [
    "We are given a minimal number of data fields here, consisting of:\n",
    "\n",
    "**`id`:** Looks like a simple rowID    \n",
    "**`qid{1, 2}`:** The unique ID of each question in the pair    \n",
    "**`question{1, 2}`:** The actual textual contents of the questions.    \n",
    "**`is_duplicate`:** The **label** that we are trying to predict - whether the two questions are duplicates of each other."
   ]
  },
  {
   "cell_type": "code",
   "execution_count": 4,
   "metadata": {
    "collapsed": false
   },
   "outputs": [
    {
     "name": "stdout",
     "output_type": "stream",
     "text": [
      "Total number of question pairs for training: 404290\n",
      "Duplicate pairs: 36.92%\n",
      "Total number of questions in the training data: 537933\n",
      "Number of questions that appear multiple times: 111780\n",
      "\n"
     ]
    },
    {
     "data": {
      "image/png": "[encoded data removed]",
      "text/plain": [
       "<matplotlib.figure.Figure at 0x10b77abe0>"
      ]
     },
     "metadata": {},
     "output_type": "display_data"
    }
   ],
   "source": [
    "print('Total number of question pairs for training: {}'.format(len(df_train)))\n",
    "print('Duplicate pairs: {}%'.format(round(df_train['is_duplicate'].mean()*100, 2)))\n",
    "qids = pd.Series(df_train['qid1'].tolist() + df_train['qid2'].tolist())\n",
    "print('Total number of questions in the training data: {}'.format(len(\n",
    "    np.unique(qids))))\n",
    "print('Number of questions that appear multiple times: {}'.format(np.sum(qids.value_counts() > 1)))\n",
    "\n",
    "plt.figure(figsize=(12, 5))\n",
    "plt.hist(qids.value_counts(), bins=50)\n",
    "plt.yscale('log', nonposy='clip')\n",
    "plt.title('Log-Histogram of question appearance counts')\n",
    "plt.xlabel('Number of occurences of question')\n",
    "plt.ylabel('Number of questions')\n",
    "print()"
   ]
  },
  {
   "cell_type": "markdown",
   "metadata": {},
   "source": [
    "# Initial Feature Analysis\n",
    "\n",
    "Before we create a model, we should take a look at how powerful some features are. I will start off with the word share feature from the benchmark model."
   ]
  },
  {
   "cell_type": "code",
   "execution_count": 9,
   "metadata": {
    "collapsed": false
   },
   "outputs": [
    {
     "data": {
      "text/plain": [
       "<matplotlib.text.Text at 0x12cf17da0>"
      ]
     },
     "execution_count": 9,
     "metadata": {},
     "output_type": "execute_result"
    },
    {
     "data": {
      "image/png": "[encoded data removed]",
      "text/plain": [
       "<matplotlib.figure.Figure at 0x121460438>"
      ]
     },
     "metadata": {},
     "output_type": "display_data"
    }
   ],
   "source": [
    "from nltk.corpus import stopwords\n",
    "\n",
    "stops = set(stopwords.words(\"english\"))\n",
    "\n",
    "def word_match_share(row):\n",
    "    q1words = {}\n",
    "    q2words = {}\n",
    "    for word in str(row['question1']).lower().split():\n",
    "        if word not in stops:\n",
    "            q1words[word] = 1\n",
    "    for word in str(row['question2']).lower().split():\n",
    "        if word not in stops:\n",
    "            q2words[word] = 1\n",
    "    if len(q1words) == 0 or len(q2words) == 0:\n",
    "        # The computer-generated chaff includes a few questions that are nothing but stopwords\n",
    "        return 0\n",
    "    shared_words_in_q1 = [w for w in q1words.keys() if w in q2words]\n",
    "    shared_words_in_q2 = [w for w in q2words.keys() if w in q1words]\n",
    "    R = (len(shared_words_in_q1) + len(shared_words_in_q2))/(len(q1words) + len(q2words))\n",
    "    return R\n",
    "\n",
    "plt.figure(figsize=(15, 5))\n",
    "train_word_match = df_train.apply(word_match_share, axis=1, raw=True)\n",
    "plt.hist(train_word_match[df_train['is_duplicate'] == 0], bins=20, normed=True, label='Not Duplicate')\n",
    "plt.hist(train_word_match[df_train['is_duplicate'] == 1], bins=20, normed=True, alpha=0.7, label='Duplicate')\n",
    "plt.legend()\n",
    "plt.title('Label distribution over word_match_share', fontsize=15)\n",
    "plt.xlabel('word_match_share', fontsize=15)"
   ]
  },
  {
   "cell_type": "markdown",
   "metadata": {},
   "source": [
    "# Synonims"
   ]
  },
  {
   "cell_type": "code",
   "execution_count": 18,
   "metadata": {
    "collapsed": false,
    "scrolled": true
   },
   "outputs": [
    {
     "name": "stdout",
     "output_type": "stream",
     "text": [
      "{'banana', 'banana_tree'}\n",
      "{'pouf', 'banana', 'fag', 'queer', 'fagot', 'faggot', 'fairy', 'queen', 'poof', 'pansy', 'poove', 'nance', 'faggot_up', 'banana_tree'}\n",
      "['first', 'sexual', 'experience', 'like']\n",
      "{'number_one', 'ilk', 'first_gear', 'comparable', 'commencement', 'go_through', 'alike', 'low_gear', 'low', 'initiative', 'get-go', 'the_likes_of', 'intimate', 'know', 'outset', 'get', 'first-class_honours_degree', 'showtime', 'same', 'foremost', 'first_off', '1st', 'live', 'have', 'sexual', 'receive', 'world-class', 'kickoff', 'number_1', 'see', 'feel', 'similar', 'firstly', 'first_of_all', 'inaugural', 'wish', 'care', 'first_base', 'beginning', 'experience', 'starting_time', 'maiden', 'initiatory', 'like', 'the_like', 'corresponding', 'start', 'offset', 'first', 'for_the_first_time'}\n"
     ]
    }
   ],
   "source": [
    "from nltk.corpus import wordnet as wn\n",
    "    \n",
    "def get_synonims(word):\n",
    "    result = set()\n",
    "    for synset in wn.synsets(word):\n",
    "        result.update(synset.lemma_names())\n",
    "    return result\n",
    "\n",
    "def get_all_synonims(words):\n",
    "    result = set()\n",
    "    for word in words:\n",
    "        result.update(get_synonims(word))\n",
    "    return result\n",
    "\n",
    "print(get_synonims('banana'))\n",
    "print(get_all_synonims(['banana', 'faggot']))\n",
    "\n",
    "words = [w for w in 'What was your first sexual experience like'.lower().split() if w not in stops]\n",
    "print(words)\n",
    "print(get_all_synonims(words))\n"
   ]
  },
  {
   "cell_type": "code",
   "execution_count": 10,
   "metadata": {
    "collapsed": false
   },
   "outputs": [
    {
     "data": {
      "text/plain": [
       "<matplotlib.text.Text at 0x13d7f9e80>"
      ]
     },
     "execution_count": 10,
     "metadata": {},
     "output_type": "execute_result"
    },
    {
     "data": {
      "image/png": "[encoded data removed]",
      "text/plain": [
       "<matplotlib.figure.Figure at 0x128a81748>"
      ]
     },
     "metadata": {},
     "output_type": "display_data"
    }
   ],
   "source": [
    "def synonims_match_share(row):\n",
    "    q1words = {}\n",
    "    q2words = {}\n",
    "    for word in str(row['question1']).lower().split():\n",
    "        if word not in stops:\n",
    "            q1words[word] = 1\n",
    "    for word in str(row['question2']).lower().split():\n",
    "        if word not in stops:\n",
    "            q2words[word] = 1\n",
    "    if len(q1words) == 0 or len(q2words) == 0:\n",
    "        # The computer-generated chaff includes a few questions that are nothing but stopwords\n",
    "        return 0\n",
    "    q1words_synonims = get_all_synonims(q1words)\n",
    "    q2words_synonims = get_all_synonims(q2words)\n",
    "    shared_words_in_q1 = [w for w in q1words.keys() if w in q2words_synonims]\n",
    "    shared_words_in_q2 = [w for w in q2words.keys() if w in q1words_synonims]\n",
    "    R = (len(shared_words_in_q1) + len(shared_words_in_q2))/(len(q1words) + len(q2words))\n",
    "    return R\n",
    "\n",
    "plt.figure(figsize=(15, 5))\n",
    "synonims_word_match = df_train.apply(synonims_match_share, axis=1, raw=True)\n",
    "plt.hist(train_word_match[df_train['is_duplicate'] == 0], bins=20, normed=True, label='Not Duplicate')\n",
    "plt.hist(train_word_match[df_train['is_duplicate'] == 1], bins=20, normed=True, alpha=0.7, label='Duplicate')\n",
    "plt.legend()\n",
    "plt.title('Label distribution over synonims_match_share', fontsize=15)\n",
    "plt.xlabel('synonims_match_share', fontsize=15)"
   ]
  },
  {
   "cell_type": "markdown",
   "metadata": {},
   "source": [
    "Here we can see that this feature has quite a lot of predictive power, as it is good at separating the duplicate questions from the non-duplicate ones. Interestingly, it seems very good at identifying questions which are definitely different, but is not so great at finding questions which are definitely duplicates.\n",
    "\n",
    "## TF-IDF\n",
    "\n",
    "I'm now going to try to improve this feature, by using something called TF-IDF (term-frequency-inverse-document-frequency). This means that we weigh the terms by how **uncommon** they are, meaning that we care more about rare words existing in both questions than common one. This makes sense, as for example we care more about whether the word \"exercise\" appears in both than the word \"and\" - as uncommon words will be more indicative of the content.\n",
    "\n",
    "You may want to look into using sklearn's [TfidfVectorizer](http://scikit-learn.org/stable/modules/generated/sklearn.feature_extraction.text.TfidfVectorizer.html) to compute weights if you are implementing this yourself, but as I am too lazy to read the documentation I will write a version in pure python with a few changes which I believe should help the score."
   ]
  },
  {
   "cell_type": "code",
   "execution_count": 11,
   "metadata": {
    "collapsed": false
   },
   "outputs": [
    {
     "ename": "NameError",
     "evalue": "name 'train_qs' is not defined",
     "output_type": "error",
     "traceback": [
      "\u001b[0;31m---------------------------------------------------------------------------\u001b[0m",
      "\u001b[0;31mNameError\u001b[0m                                 Traceback (most recent call last)",
      "\u001b[0;32m<ipython-input-11-3aa013db5e26>\u001b[0m in \u001b[0;36m<module>\u001b[0;34m()\u001b[0m\n\u001b[1;32m     10\u001b[0m \u001b[0;34m\u001b[0m\u001b[0m\n\u001b[1;32m     11\u001b[0m \u001b[0meps\u001b[0m \u001b[0;34m=\u001b[0m \u001b[0;36m5000\u001b[0m\u001b[0;34m\u001b[0m\u001b[0m\n\u001b[0;32m---> 12\u001b[0;31m \u001b[0mwords\u001b[0m \u001b[0;34m=\u001b[0m \u001b[0;34m(\u001b[0m\u001b[0;34m\" \"\u001b[0m\u001b[0;34m.\u001b[0m\u001b[0mjoin\u001b[0m\u001b[0;34m(\u001b[0m\u001b[0mtrain_qs\u001b[0m\u001b[0;34m)\u001b[0m\u001b[0;34m)\u001b[0m\u001b[0;34m.\u001b[0m\u001b[0mlower\u001b[0m\u001b[0;34m(\u001b[0m\u001b[0;34m)\u001b[0m\u001b[0;34m.\u001b[0m\u001b[0msplit\u001b[0m\u001b[0;34m(\u001b[0m\u001b[0;34m)\u001b[0m\u001b[0;34m\u001b[0m\u001b[0m\n\u001b[0m\u001b[1;32m     13\u001b[0m \u001b[0mcounts\u001b[0m \u001b[0;34m=\u001b[0m \u001b[0mCounter\u001b[0m\u001b[0;34m(\u001b[0m\u001b[0mwords\u001b[0m\u001b[0;34m)\u001b[0m\u001b[0;34m\u001b[0m\u001b[0m\n\u001b[1;32m     14\u001b[0m \u001b[0mweights\u001b[0m \u001b[0;34m=\u001b[0m \u001b[0;34m{\u001b[0m\u001b[0mword\u001b[0m\u001b[0;34m:\u001b[0m \u001b[0mget_weight\u001b[0m\u001b[0;34m(\u001b[0m\u001b[0mcount\u001b[0m\u001b[0;34m)\u001b[0m \u001b[0;32mfor\u001b[0m \u001b[0mword\u001b[0m\u001b[0;34m,\u001b[0m \u001b[0mcount\u001b[0m \u001b[0;32min\u001b[0m \u001b[0mcounts\u001b[0m\u001b[0;34m.\u001b[0m\u001b[0mitems\u001b[0m\u001b[0;34m(\u001b[0m\u001b[0;34m)\u001b[0m\u001b[0;34m}\u001b[0m\u001b[0;34m\u001b[0m\u001b[0m\n",
      "\u001b[0;31mNameError\u001b[0m: name 'train_qs' is not defined"
     ]
    }
   ],
   "source": [
    "from collections import Counter\n",
    "\n",
    "# If a word appears only once, we ignore it completely (likely a typo)\n",
    "# Epsilon defines a smoothing constant, which makes the effect of extremely rare words smaller\n",
    "def get_weight(count, eps=10000, min_count=2):\n",
    "    if count < min_count:\n",
    "        return 0\n",
    "    else:\n",
    "        return 1 / (count + eps)\n",
    "\n",
    "eps = 5000 \n",
    "words = (\" \".join(train_qs)).lower().split()\n",
    "counts = Counter(words)\n",
    "weights = {word: get_weight(count) for word, count in counts.items()}"
   ]
  },
  {
   "cell_type": "code",
   "execution_count": 39,
   "metadata": {
    "collapsed": false
   },
   "outputs": [
    {
     "name": "stdout",
     "output_type": "stream",
     "text": [
      "Most common words and weights: \n",
      "\n",
      "[('the', 2.5891040146646852e-06), ('what', 3.115623919267953e-06), ('is', 3.5861702928825277e-06), ('how', 4.366449945201053e-06), ('i', 4.4805878531263305e-06), ('a', 4.540645588989843e-06), ('to', 4.671434644293609e-06), ('in', 4.884625153865692e-06), ('of', 5.920242493132519e-06), ('do', 6.070908207867897e-06)]\n",
      "\n",
      "Least common words and weights: \n"
     ]
    },
    {
     "data": {
      "text/plain": [
       "[('シ', 9.998000399920016e-05),\n",
       " ('し?', 9.998000399920016e-05),\n",
       " ('19-year-old.', 9.998000399920016e-05),\n",
       " ('1-855-425-3768', 9.998000399920016e-05),\n",
       " ('confederates', 9.998000399920016e-05),\n",
       " ('asahi', 9.998000399920016e-05),\n",
       " ('fab', 9.998000399920016e-05),\n",
       " ('109?', 9.998000399920016e-05),\n",
       " ('samrudi', 9.998000399920016e-05),\n",
       " ('fulfill?', 9.998000399920016e-05)]"
      ]
     },
     "execution_count": 39,
     "metadata": {},
     "output_type": "execute_result"
    }
   ],
   "source": [
    "print('Most common words and weights: \\n')\n",
    "print(sorted(weights.items(), key=lambda x: x[1] if x[1] > 0 else 9999)[:10])\n",
    "print('\\nLeast common words and weights: ')\n",
    "(sorted(weights.items(), key=lambda x: x[1], reverse=True)[:10])"
   ]
  },
  {
   "cell_type": "code",
   "execution_count": 12,
   "metadata": {
    "collapsed": true
   },
   "outputs": [],
   "source": [
    "def tfidf_word_match_share(row):\n",
    "    q1words = {}\n",
    "    q2words = {}\n",
    "    for word in str(row['question1']).lower().split():\n",
    "        if word not in stops:\n",
    "            q1words[word] = 1\n",
    "    for word in str(row['question2']).lower().split():\n",
    "        if word not in stops:\n",
    "            q2words[word] = 1\n",
    "    if len(q1words) == 0 or len(q2words) == 0:\n",
    "        # The computer-generated chaff includes a few questions that are nothing but stopwords\n",
    "        return 0\n",
    "    \n",
    "    shared_weights = [weights.get(w, 0) for w in q1words.keys() if w in q2words] + [weights.get(w, 0) for w in q2words.keys() if w in q1words]\n",
    "    total_weights = [weights.get(w, 0) for w in q1words] + [weights.get(w, 0) for w in q2words]\n",
    "    \n",
    "    R = np.sum(shared_weights) / np.sum(total_weights)\n",
    "    return R"
   ]
  },
  {
   "cell_type": "code",
   "execution_count": 41,
   "metadata": {
    "collapsed": false
   },
   "outputs": [
    {
     "name": "stderr",
     "output_type": "stream",
     "text": [
      "//anaconda/lib/python3.6/site-packages/ipykernel/__main__.py:17: RuntimeWarning: invalid value encountered in double_scalars\n"
     ]
    },
    {
     "data": {
      "text/plain": [
       "<matplotlib.text.Text at 0x11e209198>"
      ]
     },
     "execution_count": 41,
     "metadata": {},
     "output_type": "execute_result"
    },
    {
     "data": {
      "image/png": "[encoded data removed]",
      "text/plain": [
       "<matplotlib.figure.Figure at 0x141f04c50>"
      ]
     },
     "metadata": {},
     "output_type": "display_data"
    }
   ],
   "source": [
    "plt.figure(figsize=(15, 5))\n",
    "tfidf_train_word_match = df_train.apply(tfidf_word_match_share, axis=1, raw=True)\n",
    "plt.hist(tfidf_train_word_match[df_train['is_duplicate'] == 0].fillna(0), bins=20, normed=True, label='Not Duplicate')\n",
    "plt.hist(tfidf_train_word_match[df_train['is_duplicate'] == 1].fillna(0), bins=20, normed=True, alpha=0.7, label='Duplicate')\n",
    "plt.legend()\n",
    "plt.title('Label distribution over tfidf_word_match_share', fontsize=15)\n",
    "plt.xlabel('word_match_share', fontsize=15)"
   ]
  },
  {
   "cell_type": "code",
   "execution_count": 14,
   "metadata": {
    "collapsed": false
   },
   "outputs": [
    {
     "name": "stdout",
     "output_type": "stream",
     "text": [
      "Original AUC: 0.780553200628\n",
      "Synonyms AUC: 0.697036460638\n"
     ]
    },
    {
     "ename": "NameError",
     "evalue": "name 'tfidf_train_word_match' is not defined",
     "output_type": "error",
     "traceback": [
      "\u001b[0;31m---------------------------------------------------------------------------\u001b[0m",
      "\u001b[0;31mNameError\u001b[0m                                 Traceback (most recent call last)",
      "\u001b[0;32m<ipython-input-14-00e3456d2fbd>\u001b[0m in \u001b[0;36m<module>\u001b[0;34m()\u001b[0m\n\u001b[1;32m      2\u001b[0m \u001b[0mprint\u001b[0m\u001b[0;34m(\u001b[0m\u001b[0;34m'Original AUC:'\u001b[0m\u001b[0;34m,\u001b[0m \u001b[0mroc_auc_score\u001b[0m\u001b[0;34m(\u001b[0m\u001b[0mdf_train\u001b[0m\u001b[0;34m[\u001b[0m\u001b[0;34m'is_duplicate'\u001b[0m\u001b[0;34m]\u001b[0m\u001b[0;34m,\u001b[0m \u001b[0mtrain_word_match\u001b[0m\u001b[0;34m)\u001b[0m\u001b[0;34m)\u001b[0m\u001b[0;34m\u001b[0m\u001b[0m\n\u001b[1;32m      3\u001b[0m \u001b[0mprint\u001b[0m\u001b[0;34m(\u001b[0m\u001b[0;34m'Synonyms AUC:'\u001b[0m\u001b[0;34m,\u001b[0m \u001b[0mroc_auc_score\u001b[0m\u001b[0;34m(\u001b[0m\u001b[0mdf_train\u001b[0m\u001b[0;34m[\u001b[0m\u001b[0;34m'is_duplicate'\u001b[0m\u001b[0;34m]\u001b[0m\u001b[0;34m,\u001b[0m \u001b[0msynonims_word_match\u001b[0m\u001b[0;34m)\u001b[0m\u001b[0;34m)\u001b[0m\u001b[0;34m\u001b[0m\u001b[0m\n\u001b[0;32m----> 4\u001b[0;31m \u001b[0mprint\u001b[0m\u001b[0;34m(\u001b[0m\u001b[0;34m'   TFIDF AUC:'\u001b[0m\u001b[0;34m,\u001b[0m \u001b[0mroc_auc_score\u001b[0m\u001b[0;34m(\u001b[0m\u001b[0mdf_train\u001b[0m\u001b[0;34m[\u001b[0m\u001b[0;34m'is_duplicate'\u001b[0m\u001b[0;34m]\u001b[0m\u001b[0;34m,\u001b[0m \u001b[0mtfidf_train_word_match\u001b[0m\u001b[0;34m.\u001b[0m\u001b[0mfillna\u001b[0m\u001b[0;34m(\u001b[0m\u001b[0;36m0\u001b[0m\u001b[0;34m)\u001b[0m\u001b[0;34m)\u001b[0m\u001b[0;34m)\u001b[0m\u001b[0;34m\u001b[0m\u001b[0m\n\u001b[0m",
      "\u001b[0;31mNameError\u001b[0m: name 'tfidf_train_word_match' is not defined"
     ]
    }
   ],
   "source": [
    "from sklearn.metrics import roc_auc_score\n",
    "print('Original AUC:', roc_auc_score(df_train['is_duplicate'], train_word_match))\n",
    "print('Synonyms AUC:', roc_auc_score(df_train['is_duplicate'], synonims_word_match))\n",
    "print('   TFIDF AUC:', roc_auc_score(df_train['is_duplicate'], tfidf_train_word_match.fillna(0)))"
   ]
  },
  {
   "cell_type": "markdown",
   "metadata": {},
   "source": [
    "So it looks like our TF-IDF actually got _worse_ in terms of overall AUC, which is a bit disappointing. (I am using the AUC metric since it is unaffected by scaling and similar, so it is a good metric for testing the predictive power of individual features.\n",
    "\n",
    "However, I still think that this feature should provide some extra information which is not provided by the original feature. Our next job is to combine these features and use it to make a prediction. For this, I will use our old friend XGBoost to make a classification model.\n",
    "\n",
    "## Rebalancing the Data\n",
    "However, before I do this, I would like to rebalance the data that XGBoost receives, since we have 37% positive class in our training data, and only 17% in the test data. By re-balancing the data so our training set has 17% positives, we can ensure that XGBoost outputs probabilities that will better match the data on the leaderboard, and should get a better score (since LogLoss looks at the probabilities themselves and not just the order of the predictions like AUC)"
   ]
  },
  {
   "cell_type": "code",
   "execution_count": 20,
   "metadata": {
    "collapsed": false
   },
   "outputs": [
    {
     "name": "stderr",
     "output_type": "stream",
     "text": [
      "//anaconda/lib/python3.6/site-packages/ipykernel/__main__.py:17: RuntimeWarning: invalid value encountered in double_scalars\n",
      "//anaconda/lib/python3.6/site-packages/ipykernel/__main__.py:17: RuntimeWarning: invalid value encountered in long_scalars\n"
     ]
    }
   ],
   "source": [
    "# First we create our training and testing data\n",
    "x_train = pd.DataFrame()\n",
    "x_test = pd.DataFrame()\n",
    "x_train['word_match'] = train_word_match\n",
    "x_train['tfidf_word_match'] = tfidf_train_word_match\n",
    "x_test['word_match'] = df_test.apply(word_match_share, axis=1, raw=True)\n",
    "x_test['tfidf_word_match'] = df_test.apply(tfidf_word_match_share, axis=1, raw=True)\n",
    "\n",
    "y_train = df_train['is_duplicate'].values"
   ]
  },
  {
   "cell_type": "code",
   "execution_count": 21,
   "metadata": {
    "collapsed": false
   },
   "outputs": [
    {
     "name": "stdout",
     "output_type": "stream",
     "text": [
      "0.19124366100096607\n"
     ]
    }
   ],
   "source": [
    "pos_train = x_train[y_train == 1]\n",
    "neg_train = x_train[y_train == 0]\n",
    "\n",
    "# Now we oversample the negative class\n",
    "# There is likely a much more elegant way to do this...\n",
    "p = 0.165\n",
    "scale = ((len(pos_train) / (len(pos_train) + len(neg_train))) / p) - 1\n",
    "while scale > 1:\n",
    "    neg_train = pd.concat([neg_train, neg_train])\n",
    "    scale -=1\n",
    "neg_train = pd.concat([neg_train, neg_train[:int(scale * len(neg_train))]])\n",
    "print(len(pos_train) / (len(pos_train) + len(neg_train)))\n",
    "\n",
    "x_train = pd.concat([pos_train, neg_train])\n",
    "y_train = (np.zeros(len(pos_train)) + 1).tolist() + np.zeros(len(neg_train)).tolist()\n",
    "del pos_train, neg_train"
   ]
  },
  {
   "cell_type": "code",
   "execution_count": 22,
   "metadata": {
    "collapsed": false
   },
   "outputs": [
    {
     "name": "stderr",
     "output_type": "stream",
     "text": [
      "//anaconda/lib/python3.6/site-packages/sklearn/cross_validation.py:44: DeprecationWarning: This module was deprecated in version 0.18 in favor of the model_selection module into which all the refactored classes and functions are moved. Also note that the interface of the new CV iterators are different from that of this module. This module will be removed in 0.20.\n",
      "  \"This module will be removed in 0.20.\", DeprecationWarning)\n"
     ]
    }
   ],
   "source": [
    "# Finally, we split some of the data off for validation\n",
    "from sklearn.cross_validation import train_test_split\n",
    "\n",
    "x_train, x_valid, y_train, y_valid = train_test_split(x_train, y_train, test_size=0.2, random_state=4242)"
   ]
  },
  {
   "cell_type": "markdown",
   "metadata": {},
   "source": [
    "## XGBoost\n",
    "\n",
    "Now we can finally run XGBoost on our data, in order to see the score on the leaderboard!"
   ]
  },
  {
   "cell_type": "code",
   "execution_count": 23,
   "metadata": {
    "collapsed": false
   },
   "outputs": [
    {
     "ename": "ModuleNotFoundError",
     "evalue": "No module named 'xgboost'",
     "output_type": "error",
     "traceback": [
      "\u001b[0;31m---------------------------------------------------------------------------\u001b[0m",
      "\u001b[0;31mModuleNotFoundError\u001b[0m                       Traceback (most recent call last)",
      "\u001b[0;32m<ipython-input-23-675a9320eece>\u001b[0m in \u001b[0;36m<module>\u001b[0;34m()\u001b[0m\n\u001b[0;32m----> 1\u001b[0;31m \u001b[0;32mimport\u001b[0m \u001b[0mxgboost\u001b[0m \u001b[0;32mas\u001b[0m \u001b[0mxgb\u001b[0m\u001b[0;34m\u001b[0m\u001b[0m\n\u001b[0m\u001b[1;32m      2\u001b[0m \u001b[0;34m\u001b[0m\u001b[0m\n\u001b[1;32m      3\u001b[0m \u001b[0;31m# Set our parameters for xgboost\u001b[0m\u001b[0;34m\u001b[0m\u001b[0;34m\u001b[0m\u001b[0m\n\u001b[1;32m      4\u001b[0m \u001b[0mparams\u001b[0m \u001b[0;34m=\u001b[0m \u001b[0;34m{\u001b[0m\u001b[0;34m}\u001b[0m\u001b[0;34m\u001b[0m\u001b[0m\n\u001b[1;32m      5\u001b[0m \u001b[0mparams\u001b[0m\u001b[0;34m[\u001b[0m\u001b[0;34m'objective'\u001b[0m\u001b[0;34m]\u001b[0m \u001b[0;34m=\u001b[0m \u001b[0;34m'binary:logistic'\u001b[0m\u001b[0;34m\u001b[0m\u001b[0m\n",
      "\u001b[0;31mModuleNotFoundError\u001b[0m: No module named 'xgboost'"
     ]
    }
   ],
   "source": [
    "import xgboost as xgb\n",
    "\n",
    "# Set our parameters for xgboost\n",
    "params = {}\n",
    "params['objective'] = 'binary:logistic'\n",
    "params['eval_metric'] = 'logloss'\n",
    "params['eta'] = 0.02\n",
    "params['max_depth'] = 4\n",
    "\n",
    "d_train = xgb.DMatrix(x_train, label=y_train)\n",
    "d_valid = xgb.DMatrix(x_valid, label=y_valid)\n",
    "\n",
    "watchlist = [(d_train, 'train'), (d_valid, 'valid')]\n",
    "\n",
    "bst = xgb.train(params, d_train, 400, watchlist, early_stopping_rounds=50, verbose_eval=10)"
   ]
  },
  {
   "cell_type": "code",
   "execution_count": null,
   "metadata": {
    "collapsed": true
   },
   "outputs": [],
   "source": [
    "d_test = xgb.DMatrix(x_test)\n",
    "p_test = bst.predict(d_test)\n",
    "\n",
    "sub = pd.DataFrame()\n",
    "sub['test_id'] = df_test['test_id']\n",
    "sub['is_duplicate'] = p_test\n",
    "sub.to_csv('simple_xgb.csv', index=False)"
   ]
  },
  {
   "cell_type": "markdown",
   "metadata": {},
   "source": [
    "**0.35460** on the leaderboard - a good first score!"
   ]
  }
 ],
 "metadata": {
  "kernelspec": {
   "display_name": "Python 3",
   "language": "python",
   "name": "python3"
  }
 },
 "nbformat": 4,
 "nbformat_minor": 0
}
