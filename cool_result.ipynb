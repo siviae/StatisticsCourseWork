{
 "cells": [
  {
   "cell_type": "markdown",
   "metadata": {
    "_cell_guid": "b19123da-a12a-7cad-43e2-e8f93d9d18c5"
   },
   "source": [
    "## Курсовая работа\n",
    "##### по курсу \"Машинное обучение\"\n",
    "\n",
    "### Вариант решения соревнования по анализу данных \"Quora question pairs\"\n",
    "\n",
    "### Выполнили:\n",
    "* Исаев Илья, M4139\n",
    "* Суворов Дмитрий, M4139"
   ]
  },
  {
   "cell_type": "code",
   "execution_count": 5,
   "metadata": {
    "_cell_guid": "60630bab-84d4-7a87-6a1f-b7f0dcaadbce",
    "collapsed": false
   },
   "outputs": [
    {
     "name": "stdout",
     "output_type": "stream",
     "text": [
      "Файлы с данными\n",
      " test.csv\n",
      "train.csv\n",
      "\n"
     ]
    }
   ],
   "source": [
    "import pandas as pd\n",
    "import numpy as np\n",
    "import seaborn as sns\n",
    "import matplotlib.pyplot as plt\n",
    "from sklearn import linear_model\n",
    "%matplotlib inline\n",
    "\n",
    "from subprocess import check_output\n",
    "print(\"Файлы с данными\\n\", check_output([\"ls\", \"../input\"]).decode(\"utf8\"))"
   ]
  },
  {
   "cell_type": "code",
   "execution_count": 9,
   "metadata": {
    "_cell_guid": "38c276be-43f9-5ba8-fa52-0bd43f8e7f17",
    "collapsed": true
   },
   "outputs": [],
   "source": [
    "train = pd.read_csv('../input/train.csv').fillna(\" \")\n",
    "train = train.dropna(how=\"any\").reset_index(drop=True)"
   ]
  },
  {
   "cell_type": "markdown",
   "metadata": {},
   "source": [
    "#### Содержимое датасета"
   ]
  },
  {
   "cell_type": "code",
   "execution_count": 12,
   "metadata": {
    "_cell_guid": "598242d8-bb54-845b-eeec-90a108764666",
    "collapsed": false
   },
   "outputs": [
    {
     "data": {
      "text/html": [
       "<div>\n",
       "<table border=\"1\" class=\"dataframe\">\n",
       "  <thead>\n",
       "    <tr style=\"text-align: right;\">\n",
       "      <th></th>\n",
       "      <th>id</th>\n",
       "      <th>qid1</th>\n",
       "      <th>qid2</th>\n",
       "      <th>question1</th>\n",
       "      <th>question2</th>\n",
       "      <th>is_duplicate</th>\n",
       "    </tr>\n",
       "  </thead>\n",
       "  <tbody>\n",
       "    <tr>\n",
       "      <th>0</th>\n",
       "      <td>0</td>\n",
       "      <td>1</td>\n",
       "      <td>2</td>\n",
       "      <td>What is the step by step guide to invest in sh...</td>\n",
       "      <td>What is the step by step guide to invest in sh...</td>\n",
       "      <td>0</td>\n",
       "    </tr>\n",
       "    <tr>\n",
       "      <th>1</th>\n",
       "      <td>1</td>\n",
       "      <td>3</td>\n",
       "      <td>4</td>\n",
       "      <td>What is the story of Kohinoor (Koh-i-Noor) Dia...</td>\n",
       "      <td>What would happen if the Indian government sto...</td>\n",
       "      <td>0</td>\n",
       "    </tr>\n",
       "    <tr>\n",
       "      <th>2</th>\n",
       "      <td>2</td>\n",
       "      <td>5</td>\n",
       "      <td>6</td>\n",
       "      <td>How can I increase the speed of my internet co...</td>\n",
       "      <td>How can Internet speed be increased by hacking...</td>\n",
       "      <td>0</td>\n",
       "    </tr>\n",
       "    <tr>\n",
       "      <th>3</th>\n",
       "      <td>3</td>\n",
       "      <td>7</td>\n",
       "      <td>8</td>\n",
       "      <td>Why am I mentally very lonely? How can I solve...</td>\n",
       "      <td>Find the remainder when [math]23^{24}[/math] i...</td>\n",
       "      <td>0</td>\n",
       "    </tr>\n",
       "    <tr>\n",
       "      <th>4</th>\n",
       "      <td>4</td>\n",
       "      <td>9</td>\n",
       "      <td>10</td>\n",
       "      <td>Which one dissolve in water quikly sugar, salt...</td>\n",
       "      <td>Which fish would survive in salt water?</td>\n",
       "      <td>0</td>\n",
       "    </tr>\n",
       "  </tbody>\n",
       "</table>\n",
       "</div>"
      ],
      "text/plain": [
       "   id  qid1  qid2                                          question1  \\\n",
       "0   0     1     2  What is the step by step guide to invest in sh...   \n",
       "1   1     3     4  What is the story of Kohinoor (Koh-i-Noor) Dia...   \n",
       "2   2     5     6  How can I increase the speed of my internet co...   \n",
       "3   3     7     8  Why am I mentally very lonely? How can I solve...   \n",
       "4   4     9    10  Which one dissolve in water quikly sugar, salt...   \n",
       "\n",
       "                                           question2  is_duplicate  \n",
       "0  What is the step by step guide to invest in sh...             0  \n",
       "1  What would happen if the Indian government sto...             0  \n",
       "2  How can Internet speed be increased by hacking...             0  \n",
       "3  Find the remainder when [math]23^{24}[/math] i...             0  \n",
       "4            Which fish would survive in salt water?             0  "
      ]
     },
     "execution_count": 12,
     "metadata": {},
     "output_type": "execute_result"
    }
   ],
   "source": [
    "train.head()"
   ]
  },
  {
   "cell_type": "markdown",
   "metadata": {
    "_cell_guid": "e64ace74-97f8-fc17-2cbc-8357c58f355d"
   },
   "source": [
    "Посмотрим сколько дубликатов:"
   ]
  },
  {
   "cell_type": "code",
   "execution_count": 4,
   "metadata": {
    "_cell_guid": "d72486bc-c95c-8ecf-5d27-ec9cac6ccf34",
    "collapsed": false
   },
   "outputs": [
    {
     "data": {
      "text/plain": [
       "<matplotlib.axes._subplots.AxesSubplot at 0x10a5320f0>"
      ]
     },
     "execution_count": 4,
     "metadata": {},
     "output_type": "execute_result"
    },
    {
     "data": {
      "image/png": "[encoded data removed]",
      "text/plain": [
       "<matplotlib.figure.Figure at 0x10a532828>"
      ]
     },
     "metadata": {},
     "output_type": "display_data"
    }
   ],
   "source": [
    "train.groupby(\"is_duplicate\")['id'].count().plot.bar()"
   ]
  },
  {
   "cell_type": "markdown",
   "metadata": {
    "_cell_guid": "4bddcb97-8171-3d15-a4ab-0d715da7c1ba"
   },
   "source": [
    "Для выделения признаков из предложений воспользуемся CountVectorizer"
   ]
  },
  {
   "cell_type": "code",
   "execution_count": 13,
   "metadata": {
    "_cell_guid": "0c59db78-45c3-0582-931b-e541c912fcfc",
    "collapsed": true
   },
   "outputs": [],
   "source": [
    "from sklearn.feature_extraction.text import CountVectorizer"
   ]
  },
  {
   "cell_type": "code",
   "execution_count": 16,
   "metadata": {
    "_cell_guid": "b07eaf93-b026-c81d-a891-6beb394abf8a",
    "collapsed": false
   },
   "outputs": [],
   "source": [
    "Bag = CountVectorizer(max_df=0.999, min_df=50, max_features=300, \n",
    "                                      analyzer='char', ngram_range=(1,2), \n",
    "                                      binary=True, lowercase=True)"
   ]
  },
  {
   "cell_type": "markdown",
   "metadata": {
    "_cell_guid": "f03ececb-ac58-5ad7-3860-1d5ca52f6e9a"
   },
   "source": [
    "Настройка параметров CountVectorizer\n",
    "-----------------------------------------------------\n",
    "\n",
    "Для получения score = 0.31675 нужно использовать следующее параметры: \n",
    "\n",
    " - max_features = 300000 - количество отбираемых признаков в корпусе\n",
    " - min_df = 50 - минимальная частота появления слова\n",
    " - ngram_range = (1,10) - минимальный и максимальный размер N-граммы\n",
    "\n",
    "С этими параметрами скрипт отрабатывает на MacBook Pro Early 2015 в течение часа. Для демонстрации уменьшим значения параметров до следующих: \n",
    "\n",
    " - max_features = 300\n",
    " - min_df = 50\n",
    " - ngram_range = (1,2)"
   ]
  },
  {
   "cell_type": "code",
   "execution_count": 18,
   "metadata": {
    "_cell_guid": "bb0315c2-9a7a-80af-5504-b5b944d9a3b8",
    "collapsed": false
   },
   "outputs": [
    {
     "data": {
      "text/plain": [
       "CountVectorizer(analyzer='char', binary=True, decode_error='strict',\n",
       "        dtype=<class 'numpy.int64'>, encoding='utf-8', input='content',\n",
       "        lowercase=True, max_df=0.999, max_features=300, min_df=50,\n",
       "        ngram_range=(1, 2), preprocessor=None, stop_words=None,\n",
       "        strip_accents=None, token_pattern='(?u)\\\\b\\\\w\\\\w+\\\\b',\n",
       "        tokenizer=None, vocabulary=None)"
      ]
     },
     "execution_count": 18,
     "metadata": {},
     "output_type": "execute_result"
    }
   ],
   "source": [
    "dataset = pd.concat((train.question1,train.question2)).unique()\n",
    "Bag.fit(dataset)"
   ]
  },
  {
   "cell_type": "code",
   "execution_count": 19,
   "metadata": {
    "_cell_guid": "074342ad-60d3-cd6b-bbc3-f59cb9231e19",
    "collapsed": true
   },
   "outputs": [],
   "source": [
    "question1 = Bag.transform(train['question1'])\n",
    "question2 = Bag.transform(train['question2'])"
   ]
  },
  {
   "cell_type": "code",
   "execution_count": 20,
   "metadata": {
    "_cell_guid": "173d1d96-5bca-2c03-7f04-bddaf382656e",
    "collapsed": false
   },
   "outputs": [],
   "source": [
    "X = -(question1 != question2).astype(int)\n",
    "y = train['is_duplicate'].values"
   ]
  },
  {
   "cell_type": "markdown",
   "metadata": {
    "_cell_guid": "9b7fa771-c3fa-2ecc-144c-b4b7f4d00de1"
   },
   "source": [
    "Следует заметить, что X принимает следующие значения:\n",
    "\n",
    " - 0, если конкретная последовательность букв присутствует в обоих вопросах.\n",
    " - -1, если конкретная последовательность букв присутствует в одном вопросе, но не присутствует в другом."
   ]
  },
  {
   "cell_type": "markdown",
   "metadata": {
    "_cell_guid": "3ce305ad-dee2-f656-9d4d-3bffaa920430"
   },
   "source": [
    "<center><h3>Применим логистическую регрессию</h3></center>"
   ]
  },
  {
   "cell_type": "code",
   "execution_count": 21,
   "metadata": {
    "_cell_guid": "fbe0d1d4-5f0c-9e40-2d2b-05fa08985e57",
    "collapsed": false
   },
   "outputs": [
    {
     "data": {
      "text/plain": [
       "LogisticRegression(C=0.1, class_weight={1: 0.472008228977, 0: 1.30905513329},\n",
       "          dual=False, fit_intercept=True, intercept_scaling=1,\n",
       "          max_iter=100, multi_class='ovr', n_jobs=1, penalty='l2',\n",
       "          random_state=None, solver='sag', tol=0.0001, verbose=0,\n",
       "          warm_start=False)"
      ]
     },
     "execution_count": 21,
     "metadata": {},
     "output_type": "execute_result"
    }
   ],
   "source": [
    "logisticRegressor = linear_model.LogisticRegression(C=0.1, solver='sag', \n",
    "                                                    class_weight={1: 0.472008228977, 0: 1.30905513329})\n",
    "logisticRegressor.fit(X, y)"
   ]
  },
  {
   "cell_type": "markdown",
   "metadata": {
    "_cell_guid": "126f9ddc-67e4-e51d-5dcd-a44d708ce6e2"
   },
   "source": [
    "Стоит заметить: class_weight принимает значения {0.472008228977,  1.30905513329} по следующим причинам. \n",
    "\n",
    "\n",
    "Оказывается, что распределение меток на трейне и тесте разное, то есть  распределение меток на тесте просто скошено.  А прогноз модели следует делать по следующей формуле: \n",
    "\n",
    "$$f(x) = \\frac{\\gamma_1 x}{\\gamma_1 x + \\gamma_0 (1-x)},$$\n",
    "\n",
    "где $$\\gamma_0 = 1.30905513329, \\gamma_1 = 0.472008228977.$$ \n",
    "\n",
    "И график этой функции выглядит следующим образом: "
   ]
  },
  {
   "cell_type": "code",
   "execution_count": 22,
   "metadata": {
    "_cell_guid": "1736fdc0-316d-26dc-dd09-844b1f63e05b",
    "collapsed": false
   },
   "outputs": [
    {
     "data": {
      "image/png": "[encoded data removed]",
      "text/plain": [
       "<matplotlib.figure.Figure at 0x1194d18d0>"
      ]
     },
     "metadata": {},
     "output_type": "display_data"
    }
   ],
   "source": [
    "gamma_0 = 1.30905513329\n",
    "gamma_1 = 0.472008228977\n",
    "def link_function(x):\n",
    "    return gamma_1*x/(gamma_1*x + gamma_0*(1 - x))\n",
    "\n",
    "support = np.linspace(0, 1, 1000)\n",
    "values = link_function(support)\n",
    "\n",
    "fig, ax = plt.subplots()\n",
    "ax.plot(support, values)\n",
    "ax.set_title('Link transformation', fontsize=20)\n",
    "ax.set_xlabel('x')\n",
    "ax.set_ylabel('f(x)')\n",
    "plt.show()"
   ]
  },
  {
   "cell_type": "markdown",
   "metadata": {
    "_cell_guid": "c4c3d799-9b75-fb9b-aed1-818e20613e3a"
   },
   "source": [
    "### Применим к тестовой выборке"
   ]
  },
  {
   "cell_type": "code",
   "execution_count": 23,
   "metadata": {
    "_cell_guid": "f7aabf09-fec0-dadd-7111-76172767ecef",
    "collapsed": true
   },
   "outputs": [],
   "source": [
    "test = pd.read_csv('../input/test.csv')\n",
    "test.ix[test['question1'].isnull(),['question1','question2']] = ' '\n",
    "test.ix[test['question2'].isnull(),['question1','question2']] = ' '"
   ]
  },
  {
   "cell_type": "code",
   "execution_count": null,
   "metadata": {
    "_cell_guid": "4d5dfa3d-771e-a33d-171c-00763d6e074a",
    "collapsed": false
   },
   "outputs": [],
   "source": [
    "%%time\n",
    "test.ix[test['question1'].isnull(),['question1','question2']] = ' '\n",
    "test.ix[test['question2'].isnull(),['question1','question2']] = ' '\n",
    "\n",
    "Question1 = Bag.transform(test['question1'])\n",
    "Question2 = Bag.transform(test['question2'])\n",
    "\n",
    "X_test = -(Question1 != Question2).astype(int)\n",
    "\n",
    "separators= [750000,1500000]\n",
    "testPredictions1 = logisticRegressor.predict_proba(X_test[:separators[0],:])[:,1]\n",
    "testPredictions2 = logisticRegressor.predict_proba(X_test[separators[0]:seperators[1],:])[:,1]\n",
    "testPredictions3 = logisticRegressor.predict_proba(X_test[separators[1]:,:])[:,1]\n",
    "testPredictions = np.hstack((testPredictions1,testPredictions2,testPredictions3))"
   ]
  },
  {
   "cell_type": "code",
   "execution_count": 16,
   "metadata": {
    "collapsed": false
   },
   "outputs": [
    {
     "name": "stdout",
     "output_type": "stream",
     "text": [
      "[ 0.04100689  0.25385036  0.15946211  0.09187033  0.33561599  0.0081948\n",
      "  0.22838802  0.2902334   0.34340652  0.10686361]\n"
     ]
    }
   ],
   "source": [
    "print(testPredictions[0:10])"
   ]
  },
  {
   "cell_type": "markdown",
   "metadata": {
    "_cell_guid": "d7210fbe-81b4-68e9-1215-d413c9ab6abb"
   },
   "source": [
    "### Делаем сабмит"
   ]
  },
  {
   "cell_type": "code",
   "execution_count": null,
   "metadata": {
    "_cell_guid": "0176fe62-a58c-93f0-4461-eb7feb827151",
    "collapsed": true
   },
   "outputs": [],
   "source": [
    "submissionName = 'quora_submission'\n",
    "\n",
    "submission = pd.DataFrame()\n",
    "submission['test_id'] = test['test_id']\n",
    "submission['is_duplicate'] = testPredictions\n",
    "submission.to_csv(submissionName + '.csv', index=False)"
   ]
  },
  {
   "cell_type": "markdown",
   "metadata": {
    "_cell_guid": "aea97a93-1179-ca7f-0e17-b693df8c5164"
   },
   "source": [
    "Таким образом, мы добились достаточно неплохих результатов даже с такой простой моделью."
   ]
  }
 ],
 "metadata": {
  "_change_revision": 9,
  "_is_fork": false,
  "kernelspec": {
   "display_name": "Python 3",
   "language": "python",
   "name": "python3"
  },
  "language_info": {
   "codemirror_mode": {
    "name": "ipython",
    "version": 3
   },
   "file_extension": ".py",
   "mimetype": "text/x-python",
   "name": "python",
   "nbconvert_exporter": "python",
   "pygments_lexer": "ipython3",
   "version": "3.6.0"
  }
 },
 "nbformat": 4,
 "nbformat_minor": 0
}
